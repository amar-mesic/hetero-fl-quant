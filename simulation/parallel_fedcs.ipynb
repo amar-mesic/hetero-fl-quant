{
 "cells": [
  {
   "cell_type": "code",
   "execution_count": 70,
   "metadata": {},
   "outputs": [],
   "source": [
    "import torch, sys, os, random, time\n",
    "import torch.nn as nn\n",
    "import torch.optim as optim\n",
    "from torch.utils.data import DataLoader, random_split, TensorDataset, Subset\n",
    "import numpy as np\n",
    "from datetime import datetime\n",
    "\n",
    "# Append the path\n",
    "src_path = os.path.abspath('../src')\n",
    "if src_path not in sys.path:\n",
    "    sys.path.append(src_path)\n",
    "    \n",
    "import fl\n",
    "from models import *\n",
    "from quantization import *\n",
    "from client import Client, ClientResources"
   ]
  },
  {
   "cell_type": "markdown",
   "metadata": {},
   "source": [
    "# Hyperparameters"
   ]
  },
  {
   "cell_type": "code",
   "execution_count": null,
   "metadata": {},
   "outputs": [],
   "source": [
    "# Hyperparameters\n",
    "hp = {\n",
    "    \"run_id\": \"test\",\n",
    "    \"run_number\": \"noname\",\n",
    "    \"learning_rate\": 0.01,\n",
    "    \"batch_size\": 32,\n",
    "    \"num_clients\": 20,\n",
    "    \"num_rounds\": 10,\n",
    "    \"num_classes\": 10,  # 10 for MNIST\n",
    "    \"classes_per_client\": 4,\n",
    "    \"epochs\": 1,    # number of epochs to train in each round\n",
    "    \"split\": \"NONIID\",   # [\"RANDOM\", \"NONIID\"]\n",
    "    \"quantize\": False,\n",
    "    \"setup\": \"standard\",    # [\"standard\", \"scalar\", \"kure\", \"mqat\"]\n",
    "    \"lambda_kure\": 1e-4,\n",
    "    \"delta\": 1e-2,\n",
    "    \"shared_fraction\": 0.00,\n",
    "}"
   ]
  },
  {
   "cell_type": "markdown",
   "metadata": {},
   "source": [
    "# Load the Tensorboard notebook"
   ]
  },
  {
   "cell_type": "code",
   "execution_count": 72,
   "metadata": {},
   "outputs": [
    {
     "data": {
      "text/plain": [
       "'%load_ext tensorboard\\n%tensorboard --logdir=.'"
      ]
     },
     "execution_count": 72,
     "metadata": {},
     "output_type": "execute_result"
    }
   ],
   "source": [
    "\n",
    "import tensorflow as tf\n",
    "from torch.utils.tensorboard import SummaryWriter\n",
    "\n",
    "writer = SummaryWriter(log_dir=\".\")\n",
    "\"\"\"%load_ext tensorboard\n",
    "%tensorboard --logdir=.\"\"\""
   ]
  },
  {
   "cell_type": "code",
   "execution_count": null,
   "metadata": {},
   "outputs": [],
   "source": [
    "shared_fraction = hp['shared_fraction']\n",
    "num_clients = hp[\"num_clients\"]\n",
    "batch_size = hp[\"batch_size\"]\n",
    "classes_per_client = hp[\"classes_per_client\"]\n",
    "num_classes = hp[\"num_classes\"]\n",
    "lr = hp[\"learning_rate\"]\n",
    "epochs = hp[\"epochs\"]\n",
    "split = hp[\"split\"]\n",
    "lambda_kure = hp[\"lambda_kure\"]\n",
    "delta = hp[\"delta\"]\n",
    "setup = hp[\"setup\"]"
   ]
  },
  {
   "cell_type": "markdown",
   "metadata": {},
   "source": [
    "## Obtain Dataset"
   ]
  },
  {
   "cell_type": "code",
   "execution_count": 74,
   "metadata": {},
   "outputs": [
    {
     "name": "stdout",
     "output_type": "stream",
     "text": [
      "Train dataset size: 48000, Train Shared dataset size: 0, Validation dataset size: 12000, Test dataset size: 10000\n"
     ]
    }
   ],
   "source": [
    "from torchvision import datasets, transforms\n",
    "\n",
    "# Define transformations for the dataset\n",
    "transform = transforms.Compose([\n",
    "    transforms.ToTensor(),\n",
    "    transforms.Normalize((0.5,), (0.5,))  # Normalize to range [-1, 1]\n",
    "])\n",
    "\n",
    "# Download and load MNIST dataset\n",
    "mnist_full = datasets.MNIST(root=\"../data\", train=True, transform=transform, download=True)\n",
    "mnist_test = datasets.MNIST(root=\"../data\", train=False, transform=transform, download=True)\n",
    "\n",
    "# Split training data into training and validation sets\n",
    "train_size = int(0.8 * len(mnist_full))  # 80% for training\n",
    "val_size = len(mnist_full) - train_size  # 20% for validation\n",
    "train_dataset, val_dataset = random_split(mnist_full, [train_size, val_size])\n",
    "\n",
    "shared_size = int(len(train_dataset) * shared_fraction)\n",
    "remaining_size = len(train_dataset) - shared_size\n",
    "train_shared_dataset, train_dataset = random_split(train_dataset, [shared_size, remaining_size])\n",
    "\n",
    "# Extract indices from Subset objects\n",
    "train_indices = train_dataset.indices  # List of training indices\n",
    "\n",
    "train_shared_indices = train_shared_dataset.indices if shared_fraction > 0.0 else []  # List of training indices\n",
    "val_indices = val_dataset.indices      # List of validation indices\n",
    "\n",
    "# Create training and validation MNIST datasets\n",
    "mnist_train = datasets.MNIST(root=\"../data\", train=True, transform=transform, download=False)\n",
    "mnist_train_shared = datasets.MNIST(root=\"../data\", train=True, transform=transform, download=False)\n",
    "mnist_val = datasets.MNIST(root=\"../data\", train=True, transform=transform, download=False)\n",
    "\n",
    "# Filter datasets by indices\n",
    "mnist_train.data = mnist_train.data[torch.tensor(train_indices)]\n",
    "mnist_train.targets = mnist_train.targets[torch.tensor(train_indices)]\n",
    "\n",
    "if shared_fraction > 0.0:\n",
    "    mnist_train_shared.data = mnist_train_shared.data[torch.tensor(train_shared_indices)]\n",
    "    mnist_train_shared.targets = mnist_train_shared.targets[torch.tensor(train_shared_indices)]\n",
    "else:\n",
    "    mnist_train_shared = []\n",
    "\n",
    "mnist_val.data = mnist_val.data[torch.tensor(val_indices)]\n",
    "mnist_val.targets = mnist_val.targets[torch.tensor(val_indices)]\n",
    "\n",
    "# Print dataset sizes\n",
    "print(f\"Train dataset size: {len(mnist_train)}, Train Shared dataset size: {len(mnist_train_shared)}, Validation dataset size: {len(mnist_val)}, Test dataset size: {len(mnist_test)}\")"
   ]
  },
  {
   "cell_type": "markdown",
   "metadata": {},
   "source": [
    "# Split Dataset: non-IID / Random\n",
    "\n",
    "### Create client train and validation datasets"
   ]
  },
  {
   "cell_type": "code",
   "execution_count": 76,
   "metadata": {},
   "outputs": [
    {
     "name": "stdout",
     "output_type": "stream",
     "text": [
      "Simulated 20 clients, each with 2400 training samples, and 12000 validation samples\n",
      "Training Set Label Distribution:\n",
      "Client 0 label distribution: {0: 1576, 5: 1441, 7: 1656, 2: 1587, 4: 1551, 9: 1600}\n",
      "Client 1 label distribution: {8: 1551, 9: 1067, 7: 1104, 6: 1582, 2: 1058, 4: 1034}\n",
      "Client 2 label distribution: {4: 690, 5: 961, 2: 705, 6: 1055, 0: 1051, 3: 1629}\n",
      "Client 3 label distribution: {5: 640, 9: 711, 0: 700, 6: 703, 3: 1086, 7: 736}\n",
      "Client 4 label distribution: {4: 460, 1: 1823, 3: 724, 6: 469, 9: 474, 0: 467}\n",
      "Client 5 label distribution: {4: 306, 0: 311, 8: 1034, 7: 490, 6: 313, 9: 316}\n",
      "Client 6 label distribution: {0: 208, 4: 204, 7: 327, 5: 427, 1: 1215, 3: 483}\n",
      "Client 7 label distribution: {5: 285, 4: 136, 3: 322, 1: 810, 0: 138, 8: 689}\n",
      "Client 8 label distribution: {7: 218, 1: 540, 6: 208, 9: 211, 0: 92, 4: 91}\n",
      "Client 9 label distribution: {5: 190, 0: 62, 2: 470, 6: 139, 9: 141, 7: 145}\n",
      "Client 10 label distribution: {1: 360, 2: 314, 7: 97, 3: 215, 5: 126, 4: 61}\n",
      "Client 11 label distribution: {7: 65, 6: 93, 1: 240, 8: 459, 4: 40, 3: 143}\n",
      "Client 12 label distribution: {8: 306, 9: 94, 0: 41, 1: 160, 7: 43, 3: 95}\n",
      "Client 13 label distribution: {5: 84, 7: 29, 3: 64, 1: 107, 2: 209, 0: 27}\n",
      "Client 14 label distribution: {8: 204, 2: 139, 7: 19, 5: 56, 1: 71, 9: 62}\n",
      "Client 15 label distribution: {0: 18, 7: 13, 5: 38, 1: 48, 8: 136, 4: 27}\n",
      "Client 16 label distribution: {1: 32, 3: 42, 9: 42, 0: 12, 2: 93, 4: 18}\n",
      "Client 17 label distribution: {7: 8, 6: 62, 1: 21, 5: 25, 8: 91, 9: 28}\n",
      "Client 18 label distribution: {7: 6, 1: 14, 5: 17, 6: 41, 2: 62, 0: 8}\n",
      "Client 19 label distribution: {2: 41, 9: 18, 1: 9, 7: 4, 0: 6, 8: 61}\n",
      "\n",
      "Validation Set Label Distribution:\n",
      "Client 0 label distribution: {3: 414, 1: 445, 5: 377, 2: 400, 9: 388, 4: 385}\n",
      "Client 1 label distribution: {0: 389, 2: 267, 4: 257, 8: 404, 7: 404, 6: 391}\n",
      "Client 2 label distribution: {0: 259, 3: 276, 2: 178, 7: 270, 5: 251, 4: 171}\n",
      "Client 3 label distribution: {2: 118, 0: 173, 8: 269, 5: 167, 1: 296, 7: 180}\n",
      "Client 4 label distribution: {2: 79, 8: 179, 4: 114, 3: 184, 6: 261, 1: 198}\n",
      "Client 5 label distribution: {2: 53, 5: 112, 8: 120, 9: 258, 6: 174, 1: 132}\n",
      "Client 6 label distribution: {8: 80, 6: 116, 5: 74, 1: 88, 0: 115, 9: 172}\n",
      "Client 7 label distribution: {5: 50, 2: 35, 0: 77, 1: 58, 3: 123, 6: 77}\n",
      "Client 8 label distribution: {7: 120, 9: 115, 2: 23, 8: 53, 1: 39, 4: 76}\n",
      "Client 9 label distribution: {5: 33, 7: 80, 1: 26, 6: 51, 0: 51, 9: 77}\n",
      "Client 10 label distribution: {2: 16, 3: 82, 4: 51, 9: 51, 0: 34, 6: 34}\n",
      "Client 11 label distribution: {9: 34, 4: 34, 1: 17, 6: 23, 0: 23, 3: 55}\n",
      "Client 12 label distribution: {5: 22, 6: 15, 4: 23, 9: 23, 8: 35, 1: 12}\n",
      "Client 13 label distribution: {5: 15, 4: 15, 7: 53, 8: 24, 1: 8, 2: 10}\n",
      "Client 14 label distribution: {6: 10, 5: 10, 0: 15, 3: 36, 7: 35, 8: 16}\n",
      "Client 15 label distribution: {7: 24, 6: 7, 8: 10, 3: 24, 2: 7, 5: 6}\n",
      "Client 16 label distribution: {9: 15, 2: 5, 4: 10, 1: 5, 0: 10, 7: 16}\n",
      "Client 17 label distribution: {5: 4, 2: 3, 7: 10, 6: 5, 8: 7, 1: 3}\n",
      "Client 18 label distribution: {1: 2, 7: 7, 9: 10, 2: 2, 3: 16, 5: 3}\n",
      "Client 19 label distribution: {5: 2, 8: 5, 7: 5, 0: 7, 4: 7, 9: 7}\n"
     ]
    }
   ],
   "source": [
    "from collections import Counter\n",
    "\n",
    "# Number of clients and non-IID split\n",
    "train_data_size = len(mnist_train) // num_clients\n",
    "val_data_size = len(mnist_val) // num_clients\n",
    "\n",
    "if split == \"NONIID\":\n",
    "    \n",
    "    # Create indices for each class\n",
    "    train_class_indices = {i: np.where(np.array(mnist_train.targets) == i)[0] for i in range(num_classes)}\n",
    "    val_class_indices = {i: np.where(np.array(mnist_val.targets) == i)[0] for i in range(num_classes)}\n",
    "\n",
    "    train_indices = []  # Initialize training indices\n",
    "    val_indices = []    # Initialize validation indices\n",
    "\n",
    "    # Randomize the order of classes for validation\n",
    "    shuffled_classes = np.random.permutation(num_classes)\n",
    "\n",
    "    for client_id in range(num_clients):\n",
    "        # Choose random classes for training\n",
    "        chosen_train_classes = np.random.choice(num_classes, classes_per_client, replace=False)\n",
    "        train_client_idx = []\n",
    "\n",
    "        # Assign validation classes independently\n",
    "        chosen_val_classes = np.random.choice(shuffled_classes, classes_per_client, replace=False)\n",
    "        val_client_idx = []\n",
    "\n",
    "        for cls in chosen_train_classes:\n",
    "            train_cls_size = len(train_class_indices[cls]) // (num_clients // classes_per_client)\n",
    "            train_cls_idx = np.random.choice(train_class_indices[cls], train_cls_size, replace=False)\n",
    "            train_client_idx.extend(train_cls_idx)\n",
    "            train_class_indices[cls] = np.setdiff1d(train_class_indices[cls], train_cls_idx)  # Avoid duplication\n",
    "\n",
    "        for cls in chosen_val_classes:\n",
    "            val_cls_size = len(val_class_indices[cls]) // (num_clients // classes_per_client)\n",
    "            val_cls_idx = np.random.choice(val_class_indices[cls], val_cls_size, replace=False)\n",
    "            val_client_idx.extend(val_cls_idx)\n",
    "            val_class_indices[cls] = np.setdiff1d(val_class_indices[cls], val_cls_idx)  # Avoid duplication\n",
    "\n",
    "        train_indices.append(train_client_idx)\n",
    "        val_indices.append(val_client_idx)\n",
    "\n",
    "    # Create datasets and DataLoaders for each client\n",
    "    train_datasets = [Subset(mnist_train, indices) for indices in train_indices]\n",
    "    train_loaders = [DataLoader(ds, batch_size=batch_size, shuffle=True) for ds in train_datasets]\n",
    "\n",
    "    val_datasets = [Subset(mnist_val, indices) for indices in val_indices]\n",
    "    val_loaders = [DataLoader(ds, batch_size=batch_size, shuffle=True) for ds in val_datasets]\n",
    "\n",
    "\n",
    "else:\n",
    "    \n",
    "    # Split the training data into smaller datasets for each client\n",
    "    train_datasets = random_split(mnist_train, [train_data_size] * num_clients)\n",
    "    train_loaders = [DataLoader(ds, batch_size=batch_size, shuffle=True) for ds in train_datasets]\n",
    "    val_datasets = random_split(mnist_train, [train_data_size] * num_clients)\n",
    "    val_loaders = [DataLoader(ds, batch_size=batch_size, shuffle=True) for ds in train_datasets]\n",
    "\n",
    "# val_loaders = DataLoader(mnist_val, batch_size=batch_size, shuffle=True)\n",
    "test_loader = DataLoader(mnist_test, batch_size=batch_size, shuffle=False)\n",
    "\n",
    "\n",
    "print(f\"Simulated {num_clients} clients, each with {train_data_size} training samples, and {len(mnist_val)} validation samples\")\n",
    "# Debugging: Output distribution of classes for all clients\n",
    "print(\"Training Set Label Distribution:\")\n",
    "for i, client_dataset in enumerate(train_datasets):\n",
    "    client_loader = torch.utils.data.DataLoader(client_dataset, batch_size=len(client_dataset))\n",
    "    client_samples, client_labels = next(iter(client_loader))\n",
    "    label_counts = Counter(client_labels.tolist())\n",
    "    print(f\"Client {i} label distribution: {dict(label_counts)}\")\n",
    "\n",
    "print(\"\\nValidation Set Label Distribution:\")\n",
    "for i, client_dataset in enumerate(val_datasets):\n",
    "    client_loader = torch.utils.data.DataLoader(client_dataset, batch_size=len(client_dataset))\n",
    "    client_samples, client_labels = next(iter(client_loader))\n",
    "    label_counts = Counter(client_labels.tolist())\n",
    "    print(f\"Client {i} label distribution: {dict(label_counts)}\")"
   ]
  },
  {
   "cell_type": "markdown",
   "metadata": {},
   "source": [
    "# Optionally distribute the shared data among clients"
   ]
  },
  {
   "cell_type": "code",
   "execution_count": 77,
   "metadata": {},
   "outputs": [
    {
     "data": {
      "text/plain": [
       "'\\nfrom collections import Counter\\n\\n# Display the label distribution for each client\\nfor i, client_dataset in enumerate(merged_train_datasets):\\n    client_loader = torch.utils.data.DataLoader(client_dataset, batch_size=len(client_dataset))\\n    client_samples, client_labels = next(iter(client_loader))\\n    label_counts = Counter(client_labels.tolist())\\n    print(f\"Client {i} label distribution: {dict(label_counts)}\")\\n'"
      ]
     },
     "execution_count": 77,
     "metadata": {},
     "output_type": "execute_result"
    }
   ],
   "source": [
    "if shared_fraction > 0.0:\n",
    "    alpha = 0.05    # Each client gets partition of the shared data\n",
    "\n",
    "    shared_loader = torch.utils.data.DataLoader(mnist_train_shared, batch_size=len(mnist_train_shared))\n",
    "    shared_samples, shared_labels = next(iter(shared_loader))\n",
    "    num_shared_samples = int(alpha * len(shared_samples))\n",
    "\n",
    "    merged_train_datasets = []\n",
    "    for client_dataset in train_datasets:\n",
    "        client_loader = torch.utils.data.DataLoader(client_dataset, batch_size=len(client_dataset))\n",
    "        client_samples, client_labels = next(iter(client_loader))\n",
    "        \n",
    "        # Combine shared and local data\n",
    "        combined_samples = torch.cat([client_samples, shared_samples[:num_shared_samples]])\n",
    "        combined_labels = torch.cat([client_labels, shared_labels[:num_shared_samples]])\n",
    "        merged_train_dataset = torch.utils.data.TensorDataset(combined_samples, combined_labels)\n",
    "        merged_train_datasets.append(merged_train_dataset)\n",
    "\n",
    "    train_loaders = [DataLoader(ds, batch_size=batch_size, shuffle=True) for ds in merged_train_datasets]\n",
    "\n",
    "\"\"\"\n",
    "from collections import Counter\n",
    "\n",
    "# Display the label distribution for each client\n",
    "for i, client_dataset in enumerate(merged_train_datasets):\n",
    "    client_loader = torch.utils.data.DataLoader(client_dataset, batch_size=len(client_dataset))\n",
    "    client_samples, client_labels = next(iter(client_loader))\n",
    "    label_counts = Counter(client_labels.tolist())\n",
    "    print(f\"Client {i} label distribution: {dict(label_counts)}\")\n",
    "\"\"\"\n"
   ]
  },
  {
   "cell_type": "markdown",
   "metadata": {},
   "source": [
    "## Set up and initialize the Global Model"
   ]
  },
  {
   "cell_type": "code",
   "execution_count": 78,
   "metadata": {},
   "outputs": [],
   "source": [
    "# 1. Initialization: Instantiate the global model (server)\n",
    "quantize = False\n",
    "global_model = QuantStubModel(q=quantize)\n",
    "if(quantize):\n",
    "    global_model.qconfig = torch.quantization.get_default_qat_qconfig(\"fbgemm\")\n",
    "    torch.quantization.prepare_qat(global_model, inplace=True)"
   ]
  },
  {
   "cell_type": "markdown",
   "metadata": {},
   "source": [
    "# Clients\n",
    "\n",
    "### Client Creation\n",
    "We create clients with various resources, in which we take into account, speed, availability, battery level, bandwidth, etc."
   ]
  },
  {
   "cell_type": "code",
   "execution_count": 79,
   "metadata": {},
   "outputs": [],
   "source": [
    "# Create client instances\n",
    "\n",
    "# Example of a client's resources\n",
    "# resources = ClientResources(\n",
    "#     speed_factor=1.5,\n",
    "#     battery_level=80,\n",
    "#     bandwidth=10.0,\n",
    "#     dataset_size=1000,\n",
    "#     CPU_available=True,\n",
    "#     CPU_memory_availability=64.0,\n",
    "#     GPU_available=True,\n",
    "#     GPU_memory_availability=16.0,\n",
    "# )\n",
    "\n",
    "clients = []\n",
    "for i in range(num_clients):\n",
    "    mock_resources = ClientResources.generate_random((len(train_datasets[i]), len(train_datasets[i])))\n",
    "\n",
    "    new_client = Client(id=i, resources=mock_resources, dataset=train_datasets[i], dataloader=train_loaders[i], val_loader=val_loaders[i])\n",
    "    clients.append(new_client)\n"
   ]
  },
  {
   "cell_type": "code",
   "execution_count": 80,
   "metadata": {},
   "outputs": [],
   "source": [
    "def client_selection_with_constraints(clients, deadline):\n",
    "\n",
    "    # Calculate update times for all clients\n",
    "    client_times = [\n",
    "        (client, client.resources.dataset_size / client.resources.speed_factor)  # (Client object, update_time)\n",
    "        for client in clients\n",
    "    ]\n",
    "    \n",
    "    # Sort clients by their update time\n",
    "    client_times.sort(key=lambda x: x[1])\n",
    "\n",
    "    selected_clients = []\n",
    "    total_time = 0\n",
    "\n",
    "    # Select clients within the deadline\n",
    "    for client, update_time in client_times:\n",
    "        if total_time + update_time <= deadline:\n",
    "            selected_clients.append(client)\n",
    "            total_time += update_time\n",
    "        else:\n",
    "            break  # Stop once adding a client exceeds the deadline\n",
    "\n",
    "    return selected_clients\n",
    "\n",
    "\n",
    "def select_indices(n, k):\n",
    "    return random.sample(range(n), k)"
   ]
  },
  {
   "cell_type": "markdown",
   "metadata": {},
   "source": [
    "# Validation"
   ]
  },
  {
   "cell_type": "code",
   "execution_count": 81,
   "metadata": {},
   "outputs": [],
   "source": [
    "def validate_model(global_model, val_loaders):\n",
    "\n",
    "    global_model.eval()  # Set the model to evaluation mode\n",
    "    total_loss = 0.0\n",
    "    total_correct = 0\n",
    "    total_samples = 0\n",
    "\n",
    "    criterion = torch.nn.CrossEntropyLoss()\n",
    "\n",
    "    with torch.no_grad():\n",
    "        for val_loader in val_loaders:\n",
    "            client_loss = 0.0\n",
    "            client_correct = 0\n",
    "            client_samples = 0\n",
    "\n",
    "            for inputs, labels in val_loader:\n",
    "                outputs = global_model(inputs)\n",
    "                loss = criterion(outputs, labels)\n",
    "                client_loss += loss.item() * len(labels)  # Accumulate loss weighted by batch size\n",
    "                _, preds = torch.max(outputs, 1)\n",
    "                client_correct += (preds == labels).sum().item()  # Count correct predictions\n",
    "                client_samples += len(labels)  # Track number of samples\n",
    "\n",
    "            # Accumulate client metrics into global metrics\n",
    "            total_loss += client_loss\n",
    "            total_correct += client_correct\n",
    "            total_samples += client_samples\n",
    "\n",
    "    # Compute global averages\n",
    "    avg_loss = total_loss / total_samples if total_samples > 0 else 0.0\n",
    "    avg_accuracy = total_correct / total_samples if total_samples > 0 else 0.0\n",
    "    return avg_loss, avg_accuracy\n"
   ]
  },
  {
   "cell_type": "markdown",
   "metadata": {},
   "source": [
    "## Run Federated Learning Round"
   ]
  },
  {
   "cell_type": "code",
   "execution_count": 82,
   "metadata": {},
   "outputs": [],
   "source": [
    "# Wrapper function for client training\n",
    "def train_client_parallel(client, global_model, epochs=1, lr=0.001, quantize=False, lambda_kure=0.0, delta=0.0, setup='standard'):\n",
    "    #print(f\"\\nTraining client {client.id} with resources {client.resources}\")\n",
    "    return client.id, client.train(global_model, epochs, lr, quantize, lambda_kure, delta, setup)"
   ]
  },
  {
   "cell_type": "code",
   "execution_count": 83,
   "metadata": {},
   "outputs": [
    {
     "name": "stdout",
     "output_type": "stream",
     "text": [
      "GPU available: True\n"
     ]
    }
   ],
   "source": [
    "\n",
    "from concurrent.futures import ThreadPoolExecutor, as_completed\n",
    "\n",
    "# Generate a unique log directory based on the current time\n",
    "run_number = hp[\"run_number\"]\n",
    "log_dir = f\"./logs/{hp['run_id']}/run_{run_number}-{datetime.now().strftime('%m-%d-%H-%M')}\"\n",
    "writer = SummaryWriter(log_dir=log_dir)\n",
    "hyperparams_text = \"\\n\".join([f\"{key}: {value}\" for key, value in hp.items()])\n",
    "start_time = time.time()\n",
    "\n",
    "# Federated Learning with FedCS Client Selection\n",
    "num_rounds = hp[\"num_rounds\"]\n",
    "epochs = hp[\"epochs\"]\n",
    "round_deadline = np.inf  # Example round deadline (in ARBITRARY time units)\n",
    "#assert num_clients == len(train_loaders)\n",
    "print(\"GPU available:\", torch.cuda.is_available())"
   ]
  },
  {
   "cell_type": "code",
   "execution_count": 84,
   "metadata": {},
   "outputs": [
    {
     "name": "stdout",
     "output_type": "stream",
     "text": [
      "Round 1\n",
      "-> Resource requested from 8 clients, 8 clients fulfilled the criteria\n",
      "Training loss after round 1: 1.298714860438536\n",
      "Global model updated for round 1\n",
      "Validation Loss: 2.1863, Validation Accuracy: 33.46%\n",
      "Round 2\n",
      "-> Resource requested from 14 clients, 14 clients fulfilled the criteria\n",
      "Training loss after round 2: 1.0192292607046303\n",
      "Global model updated for round 2\n",
      "Validation Loss: 1.5342, Validation Accuracy: 41.06%\n",
      "Round 3\n",
      "-> Resource requested from 6 clients, 6 clients fulfilled the criteria\n",
      "Training loss after round 3: 0.5667829816862755\n",
      "Global model updated for round 3\n",
      "Validation Loss: 1.6853, Validation Accuracy: 41.90%\n",
      "Round 4\n",
      "-> Resource requested from 13 clients, 13 clients fulfilled the criteria\n",
      "Training loss after round 4: 0.5777835205918533\n",
      "Global model updated for round 4\n",
      "Validation Loss: 1.0263, Validation Accuracy: 63.77%\n",
      "Round 5\n",
      "-> Resource requested from 6 clients, 6 clients fulfilled the criteria\n",
      "Training loss after round 5: 0.5670084149127609\n",
      "Global model updated for round 5\n",
      "Validation Loss: 0.9638, Validation Accuracy: 65.28%\n",
      "Round 6\n",
      "-> Resource requested from 10 clients, 10 clients fulfilled the criteria\n",
      "Training loss after round 6: 0.47793053360222526\n",
      "Global model updated for round 6\n",
      "Validation Loss: 0.9791, Validation Accuracy: 67.99%\n",
      "Round 7\n",
      "-> Resource requested from 10 clients, 10 clients fulfilled the criteria\n",
      "Training loss after round 7: 0.4813784807983398\n",
      "Global model updated for round 7\n",
      "Validation Loss: 0.8986, Validation Accuracy: 68.81%\n",
      "Round 8\n",
      "-> Resource requested from 7 clients, 7 clients fulfilled the criteria\n",
      "Training loss after round 8: 0.4312221140455981\n",
      "Global model updated for round 8\n",
      "Validation Loss: 0.8862, Validation Accuracy: 72.59%\n",
      "Round 9\n",
      "-> Resource requested from 16 clients, 16 clients fulfilled the criteria\n",
      "Training loss after round 9: 0.36921581731544384\n",
      "Global model updated for round 9\n",
      "Validation Loss: 0.6905, Validation Accuracy: 77.28%\n",
      "Round 10\n",
      "-> Resource requested from 9 clients, 9 clients fulfilled the criteria\n",
      "Training loss after round 10: 0.39283372244139175\n",
      "Global model updated for round 10\n",
      "Validation Loss: 0.8108, Validation Accuracy: 75.97%\n"
     ]
    }
   ],
   "source": [
    "# Conduct federated learning rounds\n",
    "for round_num in range(num_rounds):\n",
    "    print(f\"Round {round_num + 1}\")\n",
    "    \n",
    "    # 2. Resource Request\n",
    "    k = random.randint(1, num_clients)\n",
    "    resource_requested_clients = random.sample(range(num_clients), k)\n",
    "\n",
    "    # 3. Client Selection: Collect client updates\n",
    "    selected_train_clients = client_selection_with_constraints(\n",
    "        [clients[i] for i in resource_requested_clients], round_deadline\n",
    "    )\n",
    "    print(f\"-> Resource requested from {len(resource_requested_clients)} clients, {len(selected_train_clients)} clients fulfilled the criteria\")\n",
    "\n",
    "    client_states = []\n",
    "    total_loss = 0\n",
    "    num_batches = len(selected_train_clients)\n",
    "    # Parallelize client training\n",
    "    with ThreadPoolExecutor(max_workers=len(selected_train_clients)) as executor:\n",
    "        futures = {\n",
    "            executor.submit(\n",
    "                train_client_parallel, \n",
    "                client, \n",
    "                global_model, \n",
    "                epochs=1,\n",
    "                lr=lr,\n",
    "                quantize=quantize,\n",
    "                lambda_kure=lambda_kure,\n",
    "                delta=delta,\n",
    "                setup=setup\n",
    "                ): client\n",
    "            for client in selected_train_clients\n",
    "        }\n",
    "        \n",
    "        for future in as_completed(futures):\n",
    "            client_id, (client_state, client_loss) = future.result()\n",
    "            # print(f\"Client {client_id} completed training.\")\n",
    "            client_states.append(client_state)\n",
    "            total_loss += client_loss\n",
    "\n",
    "    # Compute average training loss\n",
    "    avg_round_training_loss = total_loss / num_batches if num_batches > 0 else 0\n",
    "    writer.add_scalar(\"Metrics/Training loss\", avg_round_training_loss, round_num + 1)\n",
    "    print(f\"Training loss after round {round_num + 1}: {avg_round_training_loss}\")\n",
    "\n",
    "    # 6. Aggregation: Aggregate updates using Federated Averaging\n",
    "    new_global_state = fl.federated_averaging(global_model, client_states)  \n",
    "    global_model.load_state_dict(new_global_state)\n",
    "    print(f\"Global model updated for round {round_num + 1}\")\n",
    "\n",
    "    # 7. Evaluate on Validation Set\n",
    "    val_loaders = [client.val_loader for client in clients]  # Get all validation loaders\n",
    "    val_loss, val_accuracy = validate_model(global_model, val_loaders)\n",
    "    print(f\"Validation Loss: {val_loss:.4f}, Validation Accuracy: {val_accuracy:.2%}\")\n",
    "    \n",
    "    # Optional: Log metrics for visualization\n",
    "    writer.add_scalar(\"Metrics/Validation Loss\", val_loss, round_num + 1)\n",
    "    writer.add_scalar(\"Metrics/Validation Accuracy\", val_accuracy, round_num + 1)\n",
    "\n",
    "if quantize:\n",
    "    torch.quantization.convert(global_model, inplace=True)\n"
   ]
  },
  {
   "cell_type": "markdown",
   "metadata": {},
   "source": [
    "## Evaluate Model"
   ]
  },
  {
   "cell_type": "code",
   "execution_count": 85,
   "metadata": {},
   "outputs": [
    {
     "name": "stdout",
     "output_type": "stream",
     "text": [
      "Global model accuracy: 76.72%\n"
     ]
    }
   ],
   "source": [
    "def evaluate_model(model, dataloader):\n",
    "    model.eval()\n",
    "    correct = 0\n",
    "    total = 0\n",
    "    with torch.no_grad():\n",
    "        for inputs, labels in dataloader:\n",
    "            outputs = model(inputs)\n",
    "            _, predicted = torch.max(outputs, 1)\n",
    "            total += labels.size(0)\n",
    "            correct += (predicted == labels).sum().item()\n",
    "    \n",
    "    test_accuracy = correct / total\n",
    "    print(f\"Global model accuracy: {test_accuracy:.2%}\")\n",
    "    return test_accuracy\n",
    "    \n",
    "# Evaluate the model on the test dataset\n",
    "test_accuracy = evaluate_model(global_model, test_loader)\n",
    "\n",
    "# End TensorBoard writer\n",
    "final_metrics = {}\n",
    "hp_cleaned = {k: v for k, v in hp.items() if isinstance(v, (int, float, str, bool, torch.Tensor))}\n",
    "writer.add_hparams(hp_cleaned, final_metrics)\n",
    "writer.close()"
   ]
  },
  {
   "cell_type": "code",
   "execution_count": 86,
   "metadata": {},
   "outputs": [
    {
     "name": "stdout",
     "output_type": "stream",
     "text": [
      "Global model saved at ./saved_models/global_model_test_noname.pth\n"
     ]
    }
   ],
   "source": [
    "# Save the final model\n",
    "model_save_path = f\"./saved_models/global_model_{hp['run_id']}_{run_number}.pth\"\n",
    "torch.save(global_model.state_dict(), model_save_path)\n",
    "print(f\"Global model saved at {model_save_path}\")"
   ]
  },
  {
   "cell_type": "code",
   "execution_count": null,
   "metadata": {},
   "outputs": [],
   "source": []
  },
  {
   "cell_type": "code",
   "execution_count": null,
   "metadata": {},
   "outputs": [],
   "source": []
  }
 ],
 "metadata": {
  "kernelspec": {
   "display_name": "feder",
   "language": "python",
   "name": "python3"
  },
  "language_info": {
   "codemirror_mode": {
    "name": "ipython",
    "version": 3
   },
   "file_extension": ".py",
   "mimetype": "text/x-python",
   "name": "python",
   "nbconvert_exporter": "python",
   "pygments_lexer": "ipython3",
   "version": "3.10.14"
  }
 },
 "nbformat": 4,
 "nbformat_minor": 2
}
